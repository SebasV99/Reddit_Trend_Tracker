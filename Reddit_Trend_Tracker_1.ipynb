{
 "cells": [
  {
   "cell_type": "code",
   "execution_count": null,
   "id": "6ba3159e-8b8b-4b03-a461-24caf4bac4de",
   "metadata": {},
   "outputs": [],
   "source": [
    "import praw"
   ]
  },
  {
   "cell_type": "code",
   "execution_count": null,
   "id": "d1b0904a-331d-498f-bf55-65671d7559ca",
   "metadata": {},
   "outputs": [],
   "source": [
    "reddit = praw.Reddit(\n",
    "    client_id=os.getenv(\"REDDIT_CLIENT_ID\"),\n",
    "    client_secret=os.getenv(\"REDDIT_CLIENT_SECRET\"),\n",
    "    user_agent=\"script by /u/your_reddit_username\",\n",
    "    username=os.getenv(\"REDDIT_USERNAME\"),\n",
    "    password=os.getenv(\"REDDIT_PASSWORD\")"
   ]
  },
  {
   "cell_type": "code",
   "execution_count": null,
   "id": "6b97ff3b-a4a4-4dda-9cb8-88a339836ff0",
   "metadata": {},
   "outputs": [],
   "source": [
    "# enter subreddit \n",
    "subreddit_name = input(\"Enter subreddit name: \")\n",
    "subreddit = reddit.subreddit(subreddit_name)\n",
    "\n",
    "# enter keyword\n",
    "keyword = input(\"Enter keyword to search: \")\n",
    "\n",
    "for submission in subreddit.search(keyword, limit=10):\n",
    "    print(submission.title)\n",
    "    print(submission.url)\n",
    "    print()"
   ]
  },
  {
   "cell_type": "code",
   "execution_count": null,
   "id": "3769994c-2d25-4e04-9fcd-0a8dd2372ccf",
   "metadata": {},
   "outputs": [],
   "source": [
    "# enter subreddit \n",
    "subreddit_name = input(\"Enter subreddit name: \")\n",
    "subreddit = reddit.subreddit(subreddit_name)\n",
    "\n",
    "for submission in subreddit.rising(limit=10):\n",
    "    print(submission.title)\n",
    "    print(submission.url)\n",
    "    print()"
   ]
  }
 ],
 "metadata": {
  "kernelspec": {
   "display_name": "Python 3 (ipykernel)",
   "language": "python",
   "name": "python3"
  },
  "language_info": {
   "codemirror_mode": {
    "name": "ipython",
    "version": 3
   },
   "file_extension": ".py",
   "mimetype": "text/x-python",
   "name": "python",
   "nbconvert_exporter": "python",
   "pygments_lexer": "ipython3",
   "version": "3.8.1"
  }
 },
 "nbformat": 4,
 "nbformat_minor": 5
}
